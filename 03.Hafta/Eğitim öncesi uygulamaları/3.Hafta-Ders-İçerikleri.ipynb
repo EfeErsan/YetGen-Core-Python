{
 "cells": [
  {
   "cell_type": "markdown",
   "metadata": {},
   "source": [
    "## Karşılaştırma Operatörleri\n",
    "\n",
    "- ` =`  atama öperatörüdür.\n",
    "Mesela x = 5 dersek x değerini 5'e atamış oluruz.\n",
    "- ` = =`  iki değerin birbirine eşit olup olmadığını kontrol eder.\n",
    "Eşit değilse False değerini döndürür.\n",
    "- ` >`  büyüktür.\n",
    "- ` <`  küçüktür.\n",
    "- ` >=`  büyük eşittir.\n",
    "- ` <=`  küçük eşittir."
   ]
  },
  {
   "cell_type": "code",
   "execution_count": 2,
   "metadata": {},
   "outputs": [],
   "source": [
    "a, b, c, d = 5, 5, 10, 4"
   ]
  },
  {
   "cell_type": "code",
   "execution_count": 3,
   "metadata": {},
   "outputs": [
    {
     "name": "stdout",
     "output_type": "stream",
     "text": [
      "True\n",
      "False\n"
     ]
    }
   ],
   "source": [
    "print(a == b) #True\n",
    "print (a == c) #False"
   ]
  },
  {
   "cell_type": "code",
   "execution_count": 4,
   "metadata": {},
   "outputs": [
    {
     "name": "stdout",
     "output_type": "stream",
     "text": [
      "False\n"
     ]
    }
   ],
   "source": [
    "username = \"admin\"\n",
    "password = \"12345\"\n",
    "print(\"efe\" == username) #False"
   ]
  },
  {
   "cell_type": "code",
   "execution_count": 5,
   "metadata": {},
   "outputs": [
    {
     "name": "stdout",
     "output_type": "stream",
     "text": [
      "False\n"
     ]
    }
   ],
   "source": [
    "print (a != b) #False"
   ]
  },
  {
   "cell_type": "code",
   "execution_count": 6,
   "metadata": {},
   "outputs": [
    {
     "name": "stdout",
     "output_type": "stream",
     "text": [
      "True\n"
     ]
    }
   ],
   "source": [
    "print (a != c) #True"
   ]
  },
  {
   "cell_type": "code",
   "execution_count": 7,
   "metadata": {},
   "outputs": [
    {
     "name": "stdout",
     "output_type": "stream",
     "text": [
      "False\n"
     ]
    }
   ],
   "source": [
    "print (a > b) #False"
   ]
  },
  {
   "cell_type": "code",
   "execution_count": 8,
   "metadata": {},
   "outputs": [
    {
     "name": "stdout",
     "output_type": "stream",
     "text": [
      "False\n"
     ]
    }
   ],
   "source": [
    "print (a < b) #False"
   ]
  },
  {
   "cell_type": "code",
   "execution_count": 9,
   "metadata": {},
   "outputs": [
    {
     "name": "stdout",
     "output_type": "stream",
     "text": [
      "True\n"
     ]
    }
   ],
   "source": [
    "print (a >= b) #True"
   ]
  },
  {
   "cell_type": "code",
   "execution_count": 10,
   "metadata": {},
   "outputs": [
    {
     "name": "stdout",
     "output_type": "stream",
     "text": [
      "True\n"
     ]
    }
   ],
   "source": [
    "print (a <= b) #True\n"
   ]
  },
  {
   "cell_type": "markdown",
   "metadata": {},
   "source": [
    "## MANTIKSAL OPERATÖRLER\n",
    "\n",
    "### AND OPERATÖRÜ\n",
    "\n",
    "- True And True = True\n",
    "- True And False = False\n",
    "- False And True = False\n",
    "- False And False = False\n",
    "- Her iki durumda eğer doğruysa True değerini döndürür.Diğer durumlarda hep False değerini döndürür."
   ]
  },
  {
   "cell_type": "code",
   "execution_count": 12,
   "metadata": {},
   "outputs": [
    {
     "name": "stdout",
     "output_type": "stream",
     "text": [
      "True\n"
     ]
    }
   ],
   "source": [
    "x = int(input(\"Bir sayı giriniz :\"))\n",
    "print ( x > 5 and x < 100)"
   ]
  },
  {
   "cell_type": "code",
   "execution_count": 13,
   "metadata": {},
   "outputs": [
    {
     "name": "stdout",
     "output_type": "stream",
     "text": [
      "True\n"
     ]
    }
   ],
   "source": [
    "hak = 5\n",
    "devamMi = True\n",
    "print(hak > 0 and devamMi == True) #True"
   ]
  },
  {
   "cell_type": "markdown",
   "metadata": {},
   "source": [
    "## OR OPERATÖRÜ\n",
    "- True or True = True\n",
    "- True or False = True\n",
    "- False or True = True\n",
    "- False or False = False\n",
    "Yalnızca 2 durumun yanlış olduğu zaman False diğer her durumda True değer verir."
   ]
  },
  {
   "cell_type": "code",
   "execution_count": 14,
   "metadata": {},
   "outputs": [
    {
     "name": "stdout",
     "output_type": "stream",
     "text": [
      "True\n"
     ]
    }
   ],
   "source": [
    "x = int(input(\"Bir sayı giriniz :\"))\n",
    "\n",
    "print (x > 0 or x % 2 == 0)"
   ]
  },
  {
   "cell_type": "code",
   "execution_count": 15,
   "metadata": {},
   "outputs": [
    {
     "name": "stdout",
     "output_type": "stream",
     "text": [
      "True\n"
     ]
    }
   ],
   "source": [
    "print(3 > 1 and 3 > 2)"
   ]
  },
  {
   "cell_type": "code",
   "execution_count": 16,
   "metadata": {},
   "outputs": [
    {
     "name": "stdout",
     "output_type": "stream",
     "text": [
      "True\n"
     ]
    }
   ],
   "source": [
    "print(3 > 1 or 3 > 2)"
   ]
  },
  {
   "cell_type": "markdown",
   "metadata": {},
   "source": [
    "## NOT OPERATÖRÜ\n",
    "\n",
    "- True değerini False\n",
    "- False için True döndürür"
   ]
  },
  {
   "cell_type": "code",
   "execution_count": 17,
   "metadata": {},
   "outputs": [
    {
     "name": "stdout",
     "output_type": "stream",
     "text": [
      "False\n"
     ]
    }
   ],
   "source": [
    "print(not(True))"
   ]
  },
  {
   "cell_type": "markdown",
   "metadata": {},
   "source": [
    "## KARAR YAPILARI\n",
    "\n",
    "- Eğer if bloğu doğruysa diğer durumlara bakılmaz ve if bloğu altındaki kodlar çalışır.\n",
    "- else yapısının kullanılması zorunlu değildir olsa da olur olmasada olur.\n",
    "- elif yapısının kullanılması zorunlu değildir olsa da olur olmasada olur.\n",
    "- else yapısı if varsa elif yapısının false olduğu durumda ikinci nihai durum olarak çalışır.\n",
    "- elif yapısına birden çok farklı koşullardan doğacak durumların kontrolünü sağlamak için kullanırız.\n",
    "\n",
    "if koşul:\n",
    "   koşul doğruysa çalışacak kodlar\n",
    "\n",
    "elif koşul2:\n",
    "     koşul2 doğruysa çalışacak kodlar\n",
    "\n",
    "else:\n",
    "     koşul ve koşul2 yanlışsa çalışacak kodlar"
   ]
  },
  {
   "cell_type": "code",
   "execution_count": 18,
   "metadata": {},
   "outputs": [
    {
     "name": "stdout",
     "output_type": "stream",
     "text": [
      "Program sonlandı.\n"
     ]
    }
   ],
   "source": [
    "if 0 > 1:\n",
    "  print(\"If bloğu çalıştı.\")\n",
    "print(\"Program sonlandı.\")"
   ]
  },
  {
   "cell_type": "code",
   "execution_count": 20,
   "metadata": {},
   "outputs": [
    {
     "name": "stdout",
     "output_type": "stream",
     "text": [
      "Sayılar birbirine eşittir.\n"
     ]
    }
   ],
   "source": [
    "sayi1 = int(input(\"1.sayıyı giriniz : \"))\n",
    "sayi2 = int(input(\"2.sayıyı giriniz : \"))\n",
    "if sayi1 > sayi2 :\n",
    "  print(\"1.sayı, 2.sayıdan büyüktür.\")\n",
    "elif sayi1 == sayi2:\n",
    "  print(\"Sayılar birbirine eşittir.\")\n",
    "elif sayi1 < sayi2 :\n",
    "  print(\"2.sayı , 1.sayıdan büyüktür.\")"
   ]
  },
  {
   "cell_type": "code",
   "execution_count": 22,
   "metadata": {},
   "outputs": [
    {
     "name": "stdout",
     "output_type": "stream",
     "text": [
      "Batman'i seçtiniz.\n"
     ]
    }
   ],
   "source": [
    "superKahraman = input(\"Bir süper kahraman giriniz :\")\n",
    "if superKahraman == \"Batman\":\n",
    "    print(\"Batman'i seçtiniz.\")\n",
    "elif superKahraman == \"Superman\":\n",
    "    print(\"Superman'i seçtiniz.\")\n",
    "elif superKahraman == \"Ironman\":\n",
    "    print(\"Ironman'i seçtiniz.\")\n",
    "else:\n",
    "    print(\"Bizde böyle bir süper kahraman bulunmamaktadır.\")"
   ]
  },
  {
   "cell_type": "code",
   "execution_count": 23,
   "metadata": {},
   "outputs": [
    {
     "name": "stdout",
     "output_type": "stream",
     "text": [
      "10 sayısı 20 sayısından küçüktür ve 20 sayısı 30 sayısından küçüktür.\n"
     ]
    }
   ],
   "source": [
    "a = 10\n",
    "b = 20\n",
    "c = 30\n",
    "\n",
    "if a > b and b > c:\n",
    "    print(f\"{a} sayısı {b} sayısından büyüktür ve {b} sayısı {c} sayısından büyüktür.\")\n",
    "if a < b and b < c:\n",
    "    print(f\"{a} sayısı {b} sayısından küçüktür ve {b} sayısı {c} sayısından küçüktür.\")\n",
    "else:\n",
    "    print(\"Bu koşullar tutmadı\")         "
   ]
  },
  {
   "cell_type": "code",
   "execution_count": 24,
   "metadata": {},
   "outputs": [
    {
     "name": "stdout",
     "output_type": "stream",
     "text": [
      "YetGen mezunusunuz. \n"
     ]
    }
   ],
   "source": [
    "yetgenMezunu = True\n",
    "if yetgenMezunu:\n",
    "    print(\"YetGen mezunusunuz. \")\n",
    "else:\n",
    "    print(\"YetGen mezunu değilsin.\")"
   ]
  },
  {
   "cell_type": "code",
   "execution_count": 25,
   "metadata": {},
   "outputs": [
    {
     "name": "stdout",
     "output_type": "stream",
     "text": [
      "3.sayı 5'ten büyüktür.\n",
      "4çsayı 10'dan büyüktür.\n"
     ]
    }
   ],
   "source": [
    "sayi3 = 10\n",
    "sayi4 = 20\n",
    "if sayi3  > 5:\n",
    "     print(\"3.sayı 5'ten büyüktür.\")\n",
    "     if sayi4 > 10:\n",
    "          print(\"4çsayı 10'dan büyüktür.\")\n",
    "     else:\n",
    "          print(\"İkinci else\")\n",
    "else: \n",
    "     print(\"Birinci else\")"
   ]
  },
  {
   "cell_type": "code",
   "execution_count": 26,
   "metadata": {},
   "outputs": [
    {
     "name": "stdout",
     "output_type": "stream",
     "text": [
      "Yokmuş\n"
     ]
    }
   ],
   "source": [
    "isim = \"Efe\"\n",
    "if \"Ersan\" in isim:\n",
    "     print(\"Varmış\")\n",
    "else:\n",
    "     print(\"Yokmuş\")"
   ]
  },
  {
   "cell_type": "code",
   "execution_count": 30,
   "metadata": {},
   "outputs": [
    {
     "name": "stdout",
     "output_type": "stream",
     "text": [
      "3 sayısı tektir\n"
     ]
    }
   ],
   "source": [
    "sayi = int(input(\"Bir sayı girin : \"))\n",
    "if sayi % 2 == 0:\n",
    "  print(f\"{sayi} sayısı çifttir\")\n",
    "else:\n",
    "  print(f\"{sayi} sayısı tektir\")"
   ]
  },
  {
   "cell_type": "markdown",
   "metadata": {},
   "source": [
    "## İn Operatörü\n",
    "\n",
    "- Belirtilen bir değerinn dizi, metin,liste veya demet gibi bir dizin öğesi olup olmadığını kontrol eder.True ya da false değerini döndürür."
   ]
  },
  {
   "cell_type": "code",
   "execution_count": 1,
   "metadata": {},
   "outputs": [
    {
     "data": {
      "text/plain": [
       "False"
      ]
     },
     "execution_count": 1,
     "metadata": {},
     "output_type": "execute_result"
    }
   ],
   "source": [
    "string = \"YetGen\"\n",
    "\"p\" in string"
   ]
  },
  {
   "cell_type": "code",
   "execution_count": 3,
   "metadata": {},
   "outputs": [
    {
     "data": {
      "text/plain": [
       "True"
      ]
     },
     "execution_count": 3,
     "metadata": {},
     "output_type": "execute_result"
    }
   ],
   "source": [
    "\"Y\" in string"
   ]
  },
  {
   "cell_type": "markdown",
   "metadata": {},
   "source": [
    "## DÖNGÜLER\n",
    "\n",
    "- Döngüler, temel olarak, verilen koşullar karşılanana kadar devam ve tekrar eden süreçtir.\n",
    "\n",
    "- Döngünün koşulu her zaman doğruysa döngü sonsuza kadar devam eder.Hangisine \"Sonsuz Döngü\" denir.Bu tür döngülere genellikle while döngüsünde rastlarız.\n",
    "\n",
    "- Eğer bir döngünün koşulu baştan yanlışsa, bu nedenle döngünün çalışmasına izin vermez.Sonra buna \"sıfır açma döngüsü\" denir.\n",
    "\n",
    "## FOR DÖNGÜSÜ\n",
    "\n",
    "- for Döngüsü, listelerin, demetlerin,stringlerin ve hatta sözlüklerin üzerinde dolaşmamızı sağlayan bir döngü türüdür.Yapısı şu şekildedir.\n",
    "\n",
    "for eleman in veriYapisi:\n",
    "    Yapılacak İşlemler"
   ]
  },
  {
   "cell_type": "code",
   "execution_count": 4,
   "metadata": {},
   "outputs": [
    {
     "name": "stdout",
     "output_type": "stream",
     "text": [
      "1\n",
      "2\n",
      "3\n",
      "4\n",
      "5\n"
     ]
    }
   ],
   "source": [
    "liste = [1,2,3,4,5]\n",
    "for i in liste:\n",
    "    print(i)"
   ]
  },
  {
   "cell_type": "code",
   "execution_count": 7,
   "metadata": {},
   "outputs": [
    {
     "name": "stdout",
     "output_type": "stream",
     "text": [
      "1\n",
      "4\n",
      "9\n",
      "16\n",
      "25\n"
     ]
    }
   ],
   "source": [
    "for i in liste:\n",
    "    print(i**2)"
   ]
  },
  {
   "cell_type": "code",
   "execution_count": 8,
   "metadata": {},
   "outputs": [
    {
     "name": "stdout",
     "output_type": "stream",
     "text": [
      "Y\n",
      "e\n",
      "t\n",
      "G\n",
      "e\n",
      "n\n",
      " \n",
      "J\n",
      "u\n",
      "m\n",
      "p\n"
     ]
    }
   ],
   "source": [
    "string = \"YetGen Jump\"\n",
    "for string1 in string:\n",
    "    print(string1)"
   ]
  },
  {
   "cell_type": "code",
   "execution_count": 9,
   "metadata": {},
   "outputs": [
    {
     "name": "stdout",
     "output_type": "stream",
     "text": [
      "25\n",
      "25\n",
      "25\n",
      "25\n",
      "25\n"
     ]
    }
   ],
   "source": [
    "sayilar = \"12345\"\n",
    "for x in sayilar:\n",
    "    print(int(i)*int(i))"
   ]
  },
  {
   "cell_type": "markdown",
   "metadata": {},
   "source": [
    "## While Döngüsü\n",
    "\n",
    "- while döngüleri belli bir koşul sağlandığı sürece bloğundaki işlemleri gerçekleştirmeye devam eder.while döngülerinin sona ermesi için koşul durumunun bir süre sonra False olması gereklidir.\n",
    "\n",
    "Yapısı şu şekildedir:\n",
    "\n",
    "while koşul:\n",
    "    Yapılacak İşlemler"
   ]
  },
  {
   "cell_type": "code",
   "execution_count": 15,
   "metadata": {},
   "outputs": [
    {
     "name": "stdout",
     "output_type": "stream",
     "text": [
      "Toplam :  55\n"
     ]
    }
   ],
   "source": [
    "sum = 0\n",
    "i = 1 \n",
    "while i < 11:\n",
    "    sum += i\n",
    "    i += 1\n",
    "print(\"Toplam : \" , sum)"
   ]
  },
  {
   "cell_type": "markdown",
   "metadata": {},
   "source": [
    "## range() Fonksiyonu\n",
    "\n",
    "- range(başlangıç,bitiş,artış miktarı) şeklinde kullanılır."
   ]
  },
  {
   "cell_type": "code",
   "execution_count": 17,
   "metadata": {},
   "outputs": [
    {
     "name": "stdout",
     "output_type": "stream",
     "text": [
      "range(1, 10, 2)\n"
     ]
    }
   ],
   "source": [
    "print(range(1,10,2))"
   ]
  },
  {
   "cell_type": "code",
   "execution_count": 18,
   "metadata": {},
   "outputs": [
    {
     "name": "stdout",
     "output_type": "stream",
     "text": [
      "1\n",
      "3\n",
      "5\n",
      "7\n",
      "9\n"
     ]
    }
   ],
   "source": [
    "for x in range(1,10,2):\n",
    "    print(x)"
   ]
  },
  {
   "cell_type": "code",
   "execution_count": 19,
   "metadata": {},
   "outputs": [
    {
     "name": "stdout",
     "output_type": "stream",
     "text": [
      "0\n",
      "1\n",
      "2\n",
      "3\n",
      "4\n"
     ]
    }
   ],
   "source": [
    "for x in range(5):\n",
    "    print(x)"
   ]
  },
  {
   "cell_type": "code",
   "execution_count": 20,
   "metadata": {},
   "outputs": [
    {
     "name": "stdout",
     "output_type": "stream",
     "text": [
      "0\n",
      "10\n",
      "20\n",
      "30\n",
      "40\n",
      "50\n",
      "60\n",
      "70\n",
      "80\n",
      "90\n",
      "100\n"
     ]
    }
   ],
   "source": [
    "for x in range(0,101,10):\n",
    "    print(x)"
   ]
  },
  {
   "cell_type": "markdown",
   "metadata": {},
   "source": [
    "## break\n",
    "\n",
    "- break ifadeleri döngüyü sonlandırır."
   ]
  },
  {
   "cell_type": "markdown",
   "metadata": {},
   "source": [
    "## continue \n",
    "\n",
    "- continue ifadesi döngünün sonraki adımına geçer."
   ]
  },
  {
   "cell_type": "code",
   "execution_count": 21,
   "metadata": {},
   "outputs": [
    {
     "name": "stdout",
     "output_type": "stream",
     "text": [
      "0\n",
      "1\n",
      "2\n",
      "3\n",
      "4\n"
     ]
    }
   ],
   "source": [
    "i = 0\n",
    "while i < 10:\n",
    "    if(i == 5):\n",
    "        break\n",
    "    else:\n",
    "        print(i)\n",
    "    i += 1    "
   ]
  },
  {
   "cell_type": "code",
   "execution_count": 22,
   "metadata": {},
   "outputs": [
    {
     "name": "stdout",
     "output_type": "stream",
     "text": [
      "Uygulamadan çıkmak için q tuşuna basın\n",
      "Yaşınız :  21\n",
      "Uygulamadan çıkmak için q tuşuna basın\n",
      "Yaşınız :  21\n",
      "Uygulamadan çıkmak için q tuşuna basın\n"
     ]
    }
   ],
   "source": [
    "while True:\n",
    "  print(\"Uygulamadan çıkmak için q tuşuna basınız\")\n",
    "  yas = input(\"Yaş : \")\n",
    "  if(yas == \"q\"):\n",
    "    break\n",
    "  else:\n",
    "    print(\"Yaşınız : \", yas)"
   ]
  },
  {
   "cell_type": "code",
   "execution_count": 23,
   "metadata": {},
   "outputs": [
    {
     "name": "stdout",
     "output_type": "stream",
     "text": [
      "0\n",
      "1\n",
      "2\n",
      "3\n",
      "4\n",
      "6\n"
     ]
    }
   ],
   "source": [
    "for i in range(7):\n",
    "  if i == 5:\n",
    "     continue\n",
    "  print(i)"
   ]
  }
 ],
 "metadata": {
  "kernelspec": {
   "display_name": "Python 3",
   "language": "python",
   "name": "python3"
  },
  "language_info": {
   "codemirror_mode": {
    "name": "ipython",
    "version": 3
   },
   "file_extension": ".py",
   "mimetype": "text/x-python",
   "name": "python",
   "nbconvert_exporter": "python",
   "pygments_lexer": "ipython3",
   "version": "3.12.3"
  }
 },
 "nbformat": 4,
 "nbformat_minor": 2
}
