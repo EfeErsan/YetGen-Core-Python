{
 "cells": [
  {
   "cell_type": "markdown",
   "metadata": {},
   "source": [
    "## Karşılaştırma Operatörleri\n",
    "\n",
    "- ` =`  atama öperatörüdür.\n",
    "Mesela x = 5 dersek x değerini 5'e atamış oluruz.\n",
    "- ` = =`  iki değerin birbirine eşit olup olmadığını kontrol eder.\n",
    "Eşit değilse False değerini döndürür.\n",
    "- ` >`  büyüktür.\n",
    "- ` <`  küçüktür.\n",
    "- ` >=`  büyük eşittir.\n",
    "- ` <=`  küçük eşittir."
   ]
  },
  {
   "cell_type": "code",
   "execution_count": 2,
   "metadata": {},
   "outputs": [],
   "source": [
    "a, b, c, d = 5, 5, 10, 4"
   ]
  },
  {
   "cell_type": "code",
   "execution_count": 3,
   "metadata": {},
   "outputs": [
    {
     "name": "stdout",
     "output_type": "stream",
     "text": [
      "True\n",
      "False\n"
     ]
    }
   ],
   "source": [
    "print(a == b) #True\n",
    "print (a == c) #False"
   ]
  },
  {
   "cell_type": "code",
   "execution_count": 4,
   "metadata": {},
   "outputs": [
    {
     "name": "stdout",
     "output_type": "stream",
     "text": [
      "False\n"
     ]
    }
   ],
   "source": [
    "username = \"admin\"\n",
    "password = \"12345\"\n",
    "print(\"efe\" == username) #False"
   ]
  },
  {
   "cell_type": "code",
   "execution_count": 5,
   "metadata": {},
   "outputs": [
    {
     "name": "stdout",
     "output_type": "stream",
     "text": [
      "False\n"
     ]
    }
   ],
   "source": [
    "print (a != b) #False"
   ]
  },
  {
   "cell_type": "code",
   "execution_count": 6,
   "metadata": {},
   "outputs": [
    {
     "name": "stdout",
     "output_type": "stream",
     "text": [
      "True\n"
     ]
    }
   ],
   "source": [
    "print (a != c) #True"
   ]
  },
  {
   "cell_type": "code",
   "execution_count": 7,
   "metadata": {},
   "outputs": [
    {
     "name": "stdout",
     "output_type": "stream",
     "text": [
      "False\n"
     ]
    }
   ],
   "source": [
    "print (a > b) #False"
   ]
  },
  {
   "cell_type": "code",
   "execution_count": 8,
   "metadata": {},
   "outputs": [
    {
     "name": "stdout",
     "output_type": "stream",
     "text": [
      "False\n"
     ]
    }
   ],
   "source": [
    "print (a < b) #False"
   ]
  },
  {
   "cell_type": "code",
   "execution_count": 9,
   "metadata": {},
   "outputs": [
    {
     "name": "stdout",
     "output_type": "stream",
     "text": [
      "True\n"
     ]
    }
   ],
   "source": [
    "print (a >= b) #True"
   ]
  },
  {
   "cell_type": "code",
   "execution_count": 10,
   "metadata": {},
   "outputs": [
    {
     "name": "stdout",
     "output_type": "stream",
     "text": [
      "True\n"
     ]
    }
   ],
   "source": [
    "print (a <= b) #True\n"
   ]
  },
  {
   "cell_type": "markdown",
   "metadata": {},
   "source": [
    "## MANTIKSAL OPERATÖRLER\n",
    "\n",
    "### AND OPERATÖRÜ\n",
    "\n",
    "- True And True = True\n",
    "- True And False = False\n",
    "- False And True = False\n",
    "- False And False = False\n",
    "- Her iki durumda eğer doğruysa True değerini döndürür.Diğer durumlarda hep False değerini döndürür."
   ]
  },
  {
   "cell_type": "code",
   "execution_count": 12,
   "metadata": {},
   "outputs": [
    {
     "name": "stdout",
     "output_type": "stream",
     "text": [
      "True\n"
     ]
    }
   ],
   "source": [
    "x = int(input(\"Bir sayı giriniz :\"))\n",
    "print ( x > 5 and x < 100)"
   ]
  },
  {
   "cell_type": "code",
   "execution_count": 13,
   "metadata": {},
   "outputs": [
    {
     "name": "stdout",
     "output_type": "stream",
     "text": [
      "True\n"
     ]
    }
   ],
   "source": [
    "hak = 5\n",
    "devamMi = True\n",
    "print(hak > 0 and devamMi == True) #True"
   ]
  },
  {
   "cell_type": "markdown",
   "metadata": {},
   "source": [
    "## OR OPERATÖRÜ\n",
    "- True or True = True\n",
    "- True or False = True\n",
    "- False or True = True\n",
    "- False or False = False\n",
    "Yalnızca 2 durumun yanlış olduğu zaman False diğer her durumda True değer verir."
   ]
  },
  {
   "cell_type": "code",
   "execution_count": 14,
   "metadata": {},
   "outputs": [
    {
     "name": "stdout",
     "output_type": "stream",
     "text": [
      "True\n"
     ]
    }
   ],
   "source": [
    "x = int(input(\"Bir sayı giriniz :\"))\n",
    "\n",
    "print (x > 0 or x % 2 == 0)"
   ]
  },
  {
   "cell_type": "code",
   "execution_count": 15,
   "metadata": {},
   "outputs": [
    {
     "name": "stdout",
     "output_type": "stream",
     "text": [
      "True\n"
     ]
    }
   ],
   "source": [
    "print(3 > 1 and 3 > 2)"
   ]
  },
  {
   "cell_type": "code",
   "execution_count": 16,
   "metadata": {},
   "outputs": [
    {
     "name": "stdout",
     "output_type": "stream",
     "text": [
      "True\n"
     ]
    }
   ],
   "source": [
    "print(3 > 1 or 3 > 2)"
   ]
  },
  {
   "cell_type": "markdown",
   "metadata": {},
   "source": [
    "## NOT OPERATÖRÜ\n",
    "\n",
    "- True değerini False\n",
    "- False için True döndürür"
   ]
  },
  {
   "cell_type": "code",
   "execution_count": 17,
   "metadata": {},
   "outputs": [
    {
     "name": "stdout",
     "output_type": "stream",
     "text": [
      "False\n"
     ]
    }
   ],
   "source": [
    "print(not(True))"
   ]
  },
  {
   "cell_type": "markdown",
   "metadata": {},
   "source": [
    "## KARAR YAPILARI\n",
    "\n",
    "- Eğer if bloğu doğruysa diğer durumlara bakılmaz ve if bloğu altındaki kodlar çalışır.\n",
    "- else yapısının kullanılması zorunlu değildir olsa da olur olmasada olur.\n",
    "- elif yapısının kullanılması zorunlu değildir olsa da olur olmasada olur.\n",
    "- else yapısı if varsa elif yapısının false olduğu durumda ikinci nihai durum olarak çalışır.\n",
    "- elif yapısına birden çok farklı koşullardan doğacak durumların kontrolünü sağlamak için kullanırız.\n",
    "\n",
    "if koşul:\n",
    "   koşul doğruysa çalışacak kodlar\n",
    "\n",
    "elif koşul2:\n",
    "     koşul2 doğruysa çalışacak kodlar\n",
    "\n",
    "else:\n",
    "     koşul ve koşul2 yanlışsa çalışacak kodlar"
   ]
  },
  {
   "cell_type": "code",
   "execution_count": 18,
   "metadata": {},
   "outputs": [
    {
     "name": "stdout",
     "output_type": "stream",
     "text": [
      "Program sonlandı.\n"
     ]
    }
   ],
   "source": [
    "if 0 > 1:\n",
    "  print(\"If bloğu çalıştı.\")\n",
    "print(\"Program sonlandı.\")"
   ]
  },
  {
   "cell_type": "code",
   "execution_count": 20,
   "metadata": {},
   "outputs": [
    {
     "name": "stdout",
     "output_type": "stream",
     "text": [
      "Sayılar birbirine eşittir.\n"
     ]
    }
   ],
   "source": [
    "sayi1 = int(input(\"1.sayıyı giriniz : \"))\n",
    "sayi2 = int(input(\"2.sayıyı giriniz : \"))\n",
    "if sayi1 > sayi2 :\n",
    "  print(\"1.sayı, 2.sayıdan büyüktür.\")\n",
    "elif sayi1 == sayi2:\n",
    "  print(\"Sayılar birbirine eşittir.\")\n",
    "elif sayi1 < sayi2 :\n",
    "  print(\"2.sayı , 1.sayıdan büyüktür.\")"
   ]
  },
  {
   "cell_type": "code",
   "execution_count": 22,
   "metadata": {},
   "outputs": [
    {
     "name": "stdout",
     "output_type": "stream",
     "text": [
      "Batman'i seçtiniz.\n"
     ]
    }
   ],
   "source": [
    "superKahraman = input(\"Bir süper kahraman giriniz :\")\n",
    "if superKahraman == \"Batman\":\n",
    "    print(\"Batman'i seçtiniz.\")\n",
    "elif superKahraman == \"Superman\":\n",
    "    print(\"Superman'i seçtiniz.\")\n",
    "elif superKahraman == \"Ironman\":\n",
    "    print(\"Ironman'i seçtiniz.\")\n",
    "else:\n",
    "    print(\"Bizde böyle bir süper kahraman bulunmamaktadır.\")"
   ]
  },
  {
   "cell_type": "code",
   "execution_count": 23,
   "metadata": {},
   "outputs": [
    {
     "name": "stdout",
     "output_type": "stream",
     "text": [
      "10 sayısı 20 sayısından küçüktür ve 20 sayısı 30 sayısından küçüktür.\n"
     ]
    }
   ],
   "source": [
    "a = 10\n",
    "b = 20\n",
    "c = 30\n",
    "\n",
    "if a > b and b > c:\n",
    "    print(f\"{a} sayısı {b} sayısından büyüktür ve {b} sayısı {c} sayısından büyüktür.\")\n",
    "if a < b and b < c:\n",
    "    print(f\"{a} sayısı {b} sayısından küçüktür ve {b} sayısı {c} sayısından küçüktür.\")\n",
    "else:\n",
    "    print(\"Bu koşullar tutmadı\")         "
   ]
  },
  {
   "cell_type": "code",
   "execution_count": 24,
   "metadata": {},
   "outputs": [
    {
     "name": "stdout",
     "output_type": "stream",
     "text": [
      "YetGen mezunusunuz. \n"
     ]
    }
   ],
   "source": [
    "yetgenMezunu = True\n",
    "if yetgenMezunu:\n",
    "    print(\"YetGen mezunusunuz. \")\n",
    "else:\n",
    "    print(\"YetGen mezunu değilsin.\")"
   ]
  },
  {
   "cell_type": "code",
   "execution_count": 25,
   "metadata": {},
   "outputs": [
    {
     "name": "stdout",
     "output_type": "stream",
     "text": [
      "3.sayı 5'ten büyüktür.\n",
      "4çsayı 10'dan büyüktür.\n"
     ]
    }
   ],
   "source": [
    "sayi3 = 10\n",
    "sayi4 = 20\n",
    "if sayi3  > 5:\n",
    "     print(\"3.sayı 5'ten büyüktür.\")\n",
    "     if sayi4 > 10:\n",
    "          print(\"4çsayı 10'dan büyüktür.\")\n",
    "     else:\n",
    "          print(\"İkinci else\")\n",
    "else: \n",
    "     print(\"Birinci else\")"
   ]
  },
  {
   "cell_type": "code",
   "execution_count": 26,
   "metadata": {},
   "outputs": [
    {
     "name": "stdout",
     "output_type": "stream",
     "text": [
      "Yokmuş\n"
     ]
    }
   ],
   "source": [
    "isim = \"Efe\"\n",
    "if \"Ersan\" in isim:\n",
    "     print(\"Varmış\")\n",
    "else:\n",
    "     print(\"Yokmuş\")"
   ]
  },
  {
   "cell_type": "code",
   "execution_count": 30,
   "metadata": {},
   "outputs": [
    {
     "name": "stdout",
     "output_type": "stream",
     "text": [
      "3 sayısı tektir\n"
     ]
    }
   ],
   "source": [
    "sayi = int(input(\"Bir sayı girin : \"))\n",
    "if sayi % 2 == 0:\n",
    "  print(f\"{sayi} sayısı çifttir\")\n",
    "else:\n",
    "  print(f\"{sayi} sayısı tektir\")"
   ]
  }
 ],
 "metadata": {
  "kernelspec": {
   "display_name": "Python 3",
   "language": "python",
   "name": "python3"
  },
  "language_info": {
   "codemirror_mode": {
    "name": "ipython",
    "version": 3
   },
   "file_extension": ".py",
   "mimetype": "text/x-python",
   "name": "python",
   "nbconvert_exporter": "python",
   "pygments_lexer": "ipython3",
   "version": "3.12.3"
  }
 },
 "nbformat": 4,
 "nbformat_minor": 2
}
