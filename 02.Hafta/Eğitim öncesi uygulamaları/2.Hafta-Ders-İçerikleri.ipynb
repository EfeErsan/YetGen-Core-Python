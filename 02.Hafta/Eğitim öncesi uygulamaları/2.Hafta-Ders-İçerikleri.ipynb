{
 "cells": [
  {
   "cell_type": "markdown",
   "metadata": {},
   "source": [
    "`print()` Fonksiyonu Nedir, Ne İşe Yarar?\n",
    "- `print ()` fonksiyonunun görevi ekrana çıktı vermemizi sağlamaktır.\n",
    "- Metinsel ifadeler `\"\"` veya `\"` içerisinde yazılır."
   ]
  },
  {
   "cell_type": "code",
   "execution_count": 1,
   "metadata": {},
   "outputs": [
    {
     "name": "stdout",
     "output_type": "stream",
     "text": [
      "Hello world\n"
     ]
    }
   ],
   "source": [
    "print (\"Hello world\")"
   ]
  },
  {
   "cell_type": "code",
   "execution_count": 2,
   "metadata": {},
   "outputs": [
    {
     "data": {
      "text/plain": [
       "'Hello world'"
      ]
     },
     "execution_count": 2,
     "metadata": {},
     "output_type": "execute_result"
    }
   ],
   "source": [
    "\"Hello world\""
   ]
  },
  {
   "cell_type": "markdown",
   "metadata": {},
   "source": [
    "### `print()` Fonksiyonunun Parametreleri\n",
    "\n",
    "#### 1. sep Parametresi\n",
    "\n",
    "> - sep ifadesi, İngilizcede separator (ayırıcı,ayraç) kelimesinin kısaltmasıdır.Dolayısıyla print() fonksiyonundaki bu sep parametresi, ekrana basılacak öğeler arasına hangi karakterin yerleştirileceğini gösterir.\n",
    "<br>\n",
    "\n",
    "> - Kullanılmasının pek bir önemi yoktur.Çünkü görünmese bile hep oradadır."
   ]
  },
  {
   "cell_type": "code",
   "execution_count": 5,
   "metadata": {},
   "outputs": [
    {
     "name": "stdout",
     "output_type": "stream",
     "text": [
      "Hello ,World\n"
     ]
    }
   ],
   "source": [
    "print (\"Hello \" , \"World\", sep=\",\")"
   ]
  },
  {
   "cell_type": "code",
   "execution_count": 7,
   "metadata": {},
   "outputs": [
    {
     "name": "stdout",
     "output_type": "stream",
     "text": [
      "Python Öğreniyorum\n"
     ]
    }
   ],
   "source": [
    "print (\"Python\" , \"Öğreniyorum\")"
   ]
  },
  {
   "cell_type": "code",
   "execution_count": 8,
   "metadata": {},
   "outputs": [
    {
     "name": "stdout",
     "output_type": "stream",
     "text": [
      "Ankara/İstanbul/İzmir\n"
     ]
    }
   ],
   "source": [
    "print (\"Ankara\" , \"İstanbul\",\"İzmir\",sep=\"/\")"
   ]
  },
  {
   "cell_type": "markdown",
   "metadata": {},
   "source": [
    "#### 2. end Parametresi\n",
    "\n",
    "> - Tıpkı sep parametresi gibi,end parametresi de `print()` fonksiyonunda görünmese bile her zaman oradadır.\n",
    "<br>\n",
    "\n",
    "> - end parametresi ise bu parametrelerin sonuna neyin geleceğini belirler."
   ]
  },
  {
   "cell_type": "code",
   "execution_count": 1,
   "metadata": {},
   "outputs": [
    {
     "name": "stdout",
     "output_type": "stream",
     "text": [
      "YetGen Dikeyine Hoş Geldiniz."
     ]
    }
   ],
   "source": [
    "print (\"YetGen Dikeyine Hoş Geldiniz\" , end=\".\")"
   ]
  },
  {
   "cell_type": "code",
   "execution_count": 2,
   "metadata": {},
   "outputs": [
    {
     "name": "stdout",
     "output_type": "stream",
     "text": [
      "Python'a ilk adımı attım"
     ]
    }
   ],
   "source": [
    "print (\"Python'a ilk adımı attım\" , end=\"\")"
   ]
  },
  {
   "cell_type": "markdown",
   "metadata": {},
   "source": [
    "#### Yorum Satırları\n",
    "\n",
    "> - Python programlama dilinde tek satır halinde açıklama satırı eklemek için \" `#` \" işareti, çoklu yorum satırı için 3 tane tek tırnak kullanılır.\n",
    "<br>\n",
    "\n",
    "> - Satırın başı ve sonu arasındaki herhangi bir metin ve kodun Python programlama dili tarafından yok sayılır ve çalıştırılmaz.\n",
    "<br>\n",
    "\n",
    "> - Kodu inceleyen başka yazılımcılar için ipucu vermek için kullanılır."
   ]
  },
  {
   "cell_type": "code",
   "execution_count": 6,
   "metadata": {},
   "outputs": [
    {
     "name": "stdout",
     "output_type": "stream",
     "text": [
      "Ocak ayında hava çok soğuk\n"
     ]
    }
   ],
   "source": [
    "# Tekli Yorum Satırı\n",
    "\n",
    "print (\"Ocak ayında hava çok soğuk\") # print() fonksiyonu ekrana baskı yapmaya sağlar.\n",
    "\n",
    "# Çoklu Yorum Satırı\n",
    "\n",
    "''' \n",
    "Çoklu\n",
    "Yorum\n",
    "Satırı\n",
    "'''"
   ]
  },
  {
   "cell_type": "markdown",
   "metadata": {},
   "source": []
  },
  {
   "cell_type": "markdown",
   "metadata": {},
   "source": [
    "#### VARIABLES - DEĞİŞKENLER\n",
    "\n",
    "> - Değişkenler bir verinin değerini saklamayı sağlarlar.\n",
    "<br>\n",
    "\n",
    "> - Değişkenler verilerin sonradan değiştirilmesine olanak sağladığı için çok kullanışlıdır.Mesela bir bankada çalışıyoruz ve faiz oranını 1.3'ten 1.1'e düşürmek isteniyor ve elimizde 1000 satırlık veri var bu oranı bir değişkene atarsak tek seferde bir yerde 1.1 yapmamız yeterli olacaktır.Diğer durumda 1000 satırlık kodu tek tek incelememiz gerekecektir.\n",
    "<br>\n",
    "\n",
    "> - Kodlar sırayla çalışır."
   ]
  },
  {
   "cell_type": "code",
   "execution_count": 7,
   "metadata": {},
   "outputs": [
    {
     "name": "stdout",
     "output_type": "stream",
     "text": [
      "YetGen\n",
      "YetGen\n",
      "YetGen\n"
     ]
    }
   ],
   "source": [
    "print(\"YetGen\")\n",
    "print(\"YetGen\")\n",
    "print(\"YetGen\")"
   ]
  },
  {
   "cell_type": "code",
   "execution_count": 8,
   "metadata": {},
   "outputs": [
    {
     "name": "stdout",
     "output_type": "stream",
     "text": [
      "YetGen Core\n",
      "YetGen Core\n",
      "YetGen Core\n"
     ]
    }
   ],
   "source": [
    "yetgen = \"YetGen Core\"\n",
    "print(yetgen)\n",
    "print(yetgen)\n",
    "print(yetgen)"
   ]
  },
  {
   "cell_type": "markdown",
   "metadata": {},
   "source": [
    "DEĞİŞKEN TANIMLAMA KURALLARI \n",
    "\n",
    ">  - Değişken adlarında sayılar, harfler ya da alt çizgi kullanılabilir.Ama değişken isimlendirilmeleri alt çizgi ya da harfle başlar.\n",
    "\n",
    "1efe = 5 Hatalı bir adlandırma \n",
    "\n",
    "efe1 = 5 Doğru bir adlandırma\n",
    "\n",
    "_efe = 5 Doğru bir adlandırma\n",
    "\n",
    "> - Değişken adlandırırken Türkçe karakter kullanmamaya özen göstermeliyiz.\n",
    "\n",
    "ağırlık = 5 hatalı kullanım\n",
    "\n",
    "agirlik = 5 doğru kullanım\n",
    "\n",
    ">  Camel case = isimlendirme türünde ilk harf küçük harf ile başlar ve sonraki her yeni sözcüğün ilk harfi büyük olmalıdır.\n",
    "\n",
    "Örnek : \n",
    "\n",
    "yetkinGencler\n",
    "\n",
    "yetgenCorePython\n",
    "\n",
    "> Snake case = isimlendirme türünde her yeni sözcüğün arası \"_\"(alt çizgi) ile ayrılır.Her kelime küçük harf ile başlar.\n",
    "\n",
    "Örnek :\n",
    "\n",
    "yetkin_gencler\n",
    "\n",
    "yetgen_core_python\n"
   ]
  },
  {
   "cell_type": "code",
   "execution_count": 10,
   "metadata": {},
   "outputs": [
    {
     "name": "stdout",
     "output_type": "stream",
     "text": [
      "Kemal\n",
      "Efe\n"
     ]
    }
   ],
   "source": [
    "isimSoyisim = \"Kemal\"\n",
    "isim_soyisim = \"Efe\"\n",
    "#isim soyisim = \"Ersan\" Hatalı kullanım\n",
    "print(isimSoyisim)\n",
    "print(isim_soyisim)\n",
    "#print(isim soyisim)"
   ]
  },
  {
   "cell_type": "markdown",
   "metadata": {},
   "source": [
    "- Python anahtar kelimeleri kullanamaz.\n",
    "- Değişken adlandırırken rakamla başlayamaz.\n",
    "- Büyük küçük harf duyarlıdır.\n",
    "- Değişken adları ne çok kısa, ne de çok uzun olmalıdır.Aynı zamanda kodu okuyan kişi değişkeninin ne için kullanıldığını anlaması gerekir. "
   ]
  },
  {
   "cell_type": "markdown",
   "metadata": {},
   "source": [
    "#### `type()` Komutu\n",
    "\n",
    "-Bir değişkenin integer,float,string ya da boolean olup olmadığını verir.Yani veri tipini verir."
   ]
  },
  {
   "cell_type": "code",
   "execution_count": 11,
   "metadata": {},
   "outputs": [
    {
     "name": "stdout",
     "output_type": "stream",
     "text": [
      "<class 'str'>\n"
     ]
    }
   ],
   "source": [
    "print(type(\"Efe\"))"
   ]
  },
  {
   "cell_type": "code",
   "execution_count": 15,
   "metadata": {},
   "outputs": [
    {
     "data": {
      "text/plain": [
       "int"
      ]
     },
     "execution_count": 15,
     "metadata": {},
     "output_type": "execute_result"
    }
   ],
   "source": [
    "type(1)"
   ]
  },
  {
   "cell_type": "code",
   "execution_count": 14,
   "metadata": {},
   "outputs": [
    {
     "data": {
      "text/plain": [
       "bool"
      ]
     },
     "execution_count": 14,
     "metadata": {},
     "output_type": "execute_result"
    }
   ],
   "source": [
    "type(True)"
   ]
  },
  {
   "cell_type": "code",
   "execution_count": 16,
   "metadata": {},
   "outputs": [
    {
     "data": {
      "text/plain": [
       "float"
      ]
     },
     "execution_count": 16,
     "metadata": {},
     "output_type": "execute_result"
    }
   ],
   "source": [
    "type(3.14)"
   ]
  },
  {
   "cell_type": "code",
   "execution_count": 17,
   "metadata": {},
   "outputs": [
    {
     "name": "stdout",
     "output_type": "stream",
     "text": [
      "<class 'int'>\n",
      "<class 'bool'>\n",
      "<class 'float'>\n"
     ]
    }
   ],
   "source": [
    "print(type(1))\n",
    "print(type(True))\n",
    "print(type(3.14))"
   ]
  },
  {
   "cell_type": "markdown",
   "metadata": {},
   "source": [
    "## SAYI VERİ TÜRLERİ\n",
    "##### int\n",
    "- Say sayıları temsil eder.\n",
    "- Mesela `10` `20` `0` `-35`"
   ]
  },
  {
   "cell_type": "code",
   "execution_count": 1,
   "metadata": {},
   "outputs": [
    {
     "name": "stdout",
     "output_type": "stream",
     "text": [
      "10\n"
     ]
    }
   ],
   "source": [
    "print (10)"
   ]
  },
  {
   "cell_type": "code",
   "execution_count": 2,
   "metadata": {},
   "outputs": [
    {
     "name": "stdout",
     "output_type": "stream",
     "text": [
      "<class 'int'>\n"
     ]
    }
   ],
   "source": [
    "print(type(10))"
   ]
  },
  {
   "cell_type": "markdown",
   "metadata": {},
   "source": [
    "##### float\n",
    "- Ondalıklı sayıları ifade eder.\n",
    "- Mesela `10.0` `20.5` `0.5` `-35.8`\n",
    "- Python 2 rakamı birbirine böldüğü zaman gerçek sonuca ulaşmak için float değer döndürür."
   ]
  },
  {
   "cell_type": "code",
   "execution_count": 3,
   "metadata": {},
   "outputs": [
    {
     "name": "stdout",
     "output_type": "stream",
     "text": [
      "3.14\n",
      "<class 'float'>\n"
     ]
    }
   ],
   "source": [
    "pi = 3.14\n",
    "print(pi)\n",
    "print(type(pi))"
   ]
  },
  {
   "cell_type": "markdown",
   "metadata": {},
   "source": [
    "## MATEMATİKSEL İŞLEMLER\n",
    "##### ARİTMETİK OPERATÖRLER\n",
    "- Toplama `+`\n",
    "- Çıkarma `-`\n",
    "- Çarpma `*`\n",
    "- Bölme `/`\n",
    "- Üs alma `**`\n",
    "- Mod alma `%`\n",
    "- Tam Bölme `//`"
   ]
  },
  {
   "cell_type": "code",
   "execution_count": 6,
   "metadata": {},
   "outputs": [],
   "source": [
    "a = 4\n",
    "b = 3"
   ]
  },
  {
   "cell_type": "code",
   "execution_count": 9,
   "metadata": {},
   "outputs": [
    {
     "name": "stdout",
     "output_type": "stream",
     "text": [
      "7\n"
     ]
    }
   ],
   "source": [
    "print(a+b)"
   ]
  },
  {
   "cell_type": "code",
   "execution_count": 10,
   "metadata": {},
   "outputs": [
    {
     "name": "stdout",
     "output_type": "stream",
     "text": [
      "1\n"
     ]
    }
   ],
   "source": [
    "print(a-b)"
   ]
  },
  {
   "cell_type": "code",
   "execution_count": 11,
   "metadata": {},
   "outputs": [
    {
     "name": "stdout",
     "output_type": "stream",
     "text": [
      "12\n"
     ]
    }
   ],
   "source": [
    "print(a*b)"
   ]
  },
  {
   "cell_type": "code",
   "execution_count": 12,
   "metadata": {},
   "outputs": [
    {
     "name": "stdout",
     "output_type": "stream",
     "text": [
      "1.3333333333333333\n"
     ]
    }
   ],
   "source": [
    "print(a/b)"
   ]
  },
  {
   "cell_type": "code",
   "execution_count": 13,
   "metadata": {},
   "outputs": [
    {
     "name": "stdout",
     "output_type": "stream",
     "text": [
      "64\n"
     ]
    }
   ],
   "source": [
    "print(a**b)"
   ]
  },
  {
   "cell_type": "code",
   "execution_count": 14,
   "metadata": {},
   "outputs": [
    {
     "name": "stdout",
     "output_type": "stream",
     "text": [
      "1\n"
     ]
    }
   ],
   "source": [
    "print(a%b)"
   ]
  },
  {
   "cell_type": "code",
   "execution_count": 15,
   "metadata": {},
   "outputs": [
    {
     "name": "stdout",
     "output_type": "stream",
     "text": [
      "1\n"
     ]
    }
   ],
   "source": [
    "print(a//b)"
   ]
  },
  {
   "cell_type": "markdown",
   "metadata": {},
   "source": [
    "## `String`\n",
    "- Metinsel ifadelerdir.\n",
    "- Metinsel ifadeler `\" \"` `' '` `''''` `\"\"\"`\n",
    "- Metinsel ifadelerde eğer tek tırnak ile başlandıysa tek tırnak ile devam edilmesi gerekiyor.\n",
    "- Metinsel ifadelerin index ile ulaşma imkanı sağlar.Yazlımda index `0`'dan başlar.Mesela `\"Merhaba Dünya\"` metninin 2.indexinde `r` vardır."
   ]
  },
  {
   "cell_type": "code",
   "execution_count": 16,
   "metadata": {},
   "outputs": [
    {
     "name": "stdout",
     "output_type": "stream",
     "text": [
      "Merhaba Python\n"
     ]
    }
   ],
   "source": [
    "degisken = \"Merhaba Python\"\n",
    "print(degisken)"
   ]
  },
  {
   "cell_type": "code",
   "execution_count": 17,
   "metadata": {},
   "outputs": [
    {
     "name": "stdout",
     "output_type": "stream",
     "text": [
      "Python Öğreniyorum\n"
     ]
    }
   ],
   "source": [
    "degisken = 'Python Öğreniyorum'\n",
    "print(degisken)"
   ]
  },
  {
   "cell_type": "code",
   "execution_count": 18,
   "metadata": {},
   "outputs": [
    {
     "name": "stdout",
     "output_type": "stream",
     "text": [
      "P\n"
     ]
    }
   ],
   "source": [
    "print(degisken[0])"
   ]
  },
  {
   "cell_type": "code",
   "execution_count": 19,
   "metadata": {},
   "outputs": [
    {
     "name": "stdout",
     "output_type": "stream",
     "text": [
      "Kemal Efe Ersan\n"
     ]
    }
   ],
   "source": [
    "isim = \"Kemal Efe\"\n",
    "soyisim = \"Ersan\"\n",
    "yas = 21\n",
    "print(isim + \" \" + soyisim)"
   ]
  },
  {
   "cell_type": "code",
   "execution_count": 22,
   "metadata": {},
   "outputs": [
    {
     "name": "stdout",
     "output_type": "stream",
     "text": [
      "Kemal Efe Ersan   21\n"
     ]
    }
   ],
   "source": [
    "print(isim , soyisim , \" \", yas)"
   ]
  },
  {
   "cell_type": "markdown",
   "metadata": {},
   "source": [
    "## `BOOLEAN`\n",
    "-Sadece `true` ya da `false` değerini döndürür."
   ]
  },
  {
   "cell_type": "code",
   "execution_count": 23,
   "metadata": {},
   "outputs": [
    {
     "name": "stdout",
     "output_type": "stream",
     "text": [
      "True\n",
      "<class 'bool'>\n"
     ]
    }
   ],
   "source": [
    "canVarMi = True\n",
    "print(canVarMi)\n",
    "print(type(canVarMi))"
   ]
  },
  {
   "cell_type": "markdown",
   "metadata": {},
   "source": [
    "## `input()`\n",
    "- Kullanıcıdan veri girişi almamızı sağlar.\n",
    "- `input` ile veri alırken string gibi davranır bu yüzden input alırken sayı alacaksan int ya da float kullan."
   ]
  },
  {
   "cell_type": "code",
   "execution_count": 25,
   "metadata": {},
   "outputs": [
    {
     "name": "stdout",
     "output_type": "stream",
     "text": [
      "Merhaba  \n"
     ]
    }
   ],
   "source": [
    "isim = input(\"İsim Giriniz :\")\n",
    "print(\"Merhaba \", isim)"
   ]
  },
  {
   "cell_type": "code",
   "execution_count": 27,
   "metadata": {},
   "outputs": [
    {
     "name": "stdout",
     "output_type": "stream",
     "text": [
      "11\n"
     ]
    }
   ],
   "source": [
    "sayi1 = input(\"Birinci sayıyı giriniz\")\n",
    "sayi2 = input(\"İkinci sayıyı giriniz\")\n",
    "print(sayi1 + sayi2)"
   ]
  },
  {
   "cell_type": "code",
   "execution_count": 28,
   "metadata": {},
   "outputs": [
    {
     "name": "stdout",
     "output_type": "stream",
     "text": [
      "2\n"
     ]
    }
   ],
   "source": [
    "sayi1 = int(input(\"Birinci sayıyı giriniz\"))\n",
    "sayi2 = int(input(\"İkinci sayıyı giriniz\"))\n",
    "print(sayi1 + sayi2)\n"
   ]
  }
 ],
 "metadata": {
  "kernelspec": {
   "display_name": "Python 3",
   "language": "python",
   "name": "python3"
  },
  "language_info": {
   "codemirror_mode": {
    "name": "ipython",
    "version": 3
   },
   "file_extension": ".py",
   "mimetype": "text/x-python",
   "name": "python",
   "nbconvert_exporter": "python",
   "pygments_lexer": "ipython3",
   "version": "3.12.3"
  }
 },
 "nbformat": 4,
 "nbformat_minor": 2
}
